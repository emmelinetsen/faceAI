{
  "nbformat": 4,
  "nbformat_minor": 0,
  "metadata": {
    "colab": {
      "name": "TFX for CNN Model",
      "provenance": [],
      "collapsed_sections": [],
      "toc_visible": true,
      "include_colab_link": true
    },
    "kernelspec": {
      "name": "python3",
      "display_name": "Python 3"
    },
    "accelerator": "GPU"
  },
  "cells": [
    {
      "cell_type": "markdown",
      "metadata": {
        "id": "view-in-github",
        "colab_type": "text"
      },
      "source": [
        "<a href=\"https://colab.research.google.com/github/emmelinetsen/faceAI/blob/master/TFX_for_CNN_Model.ipynb\" target=\"_parent\"><img src=\"https://colab.research.google.com/assets/colab-badge.svg\" alt=\"Open In Colab\"/></a>"
      ]
    },
    {
      "cell_type": "markdown",
      "metadata": {
        "id": "F7q1QFYqlQfW",
        "colab_type": "text"
      },
      "source": [
        "# Serve Model using TensorFlow Serving\n",
        "\n",
        "Reference: https://colab.research.google.com/github/tensorflow/tfx/blob/master/docs/tutorials/serving/rest_simple.ipynb"
      ]
    },
    {
      "cell_type": "code",
      "metadata": {
        "id": "XMoFNcZcDgtX",
        "colab_type": "code",
        "outputId": "5faaad19-c1d9-49bc-c268-67dd16a7a0e7",
        "colab": {
          "base_uri": "https://localhost:8080/",
          "height": 118
        }
      },
      "source": [
        "from google.colab import drive\n",
        "drive.mount('/content/drive')"
      ],
      "execution_count": 1,
      "outputs": [
        {
          "output_type": "stream",
          "text": [
            "Go to this URL in a browser: https://accounts.google.com/o/oauth2/auth?client_id=947318989803-6bn6qk8qdgf4n4g3pfee6491hc0brc4i.apps.googleusercontent.com&redirect_uri=urn%3aietf%3awg%3aoauth%3a2.0%3aoob&response_type=code&scope=email%20https%3a%2f%2fwww.googleapis.com%2fauth%2fdocs.test%20https%3a%2f%2fwww.googleapis.com%2fauth%2fdrive%20https%3a%2f%2fwww.googleapis.com%2fauth%2fdrive.photos.readonly%20https%3a%2f%2fwww.googleapis.com%2fauth%2fpeopleapi.readonly\n",
            "\n",
            "Enter your authorization code:\n",
            "··········\n",
            "Mounted at /content/drive\n"
          ],
          "name": "stdout"
        }
      ]
    },
    {
      "cell_type": "code",
      "metadata": {
        "id": "5-gesxjPmbH6",
        "colab_type": "code",
        "colab": {
          "base_uri": "https://localhost:8080/",
          "height": 505
        },
        "outputId": "eaf041f9-035e-4528-e56f-46a65bdbdfc7"
      },
      "source": [
        "!echo \"deb http://storage.googleapis.com/tensorflow-serving-apt stable tensorflow-model-server tensorflow-model-server-universal\" | tee /etc/apt/sources.list.d/tensorflow-serving.list && \\\n",
        "curl https://storage.googleapis.com/tensorflow-serving-apt/tensorflow-serving.release.pub.gpg | apt-key add -\n",
        "!apt update\n"
      ],
      "execution_count": 2,
      "outputs": [
        {
          "output_type": "stream",
          "text": [
            "deb http://storage.googleapis.com/tensorflow-serving-apt stable tensorflow-model-server tensorflow-model-server-universal\n",
            "  % Total    % Received % Xferd  Average Speed   Time    Time     Time  Current\n",
            "                                 Dload  Upload   Total   Spent    Left  Speed\n",
            "\r  0     0    0     0    0     0      0      0 --:--:-- --:--:-- --:--:--     0\r100  2943  100  2943    0     0  20725      0 --:--:-- --:--:-- --:--:-- 20725\n",
            "OK\n",
            "Get:1 http://storage.googleapis.com/tensorflow-serving-apt stable InRelease [3,012 B]\n",
            "Get:2 https://cloud.r-project.org/bin/linux/ubuntu bionic-cran35/ InRelease [3,626 B]\n",
            "Get:3 http://storage.googleapis.com/tensorflow-serving-apt stable/tensorflow-model-server-universal amd64 Packages [361 B]\n",
            "Get:4 http://storage.googleapis.com/tensorflow-serving-apt stable/tensorflow-model-server amd64 Packages [354 B]\n",
            "Hit:5 http://ppa.launchpad.net/graphics-drivers/ppa/ubuntu bionic InRelease\n",
            "Get:6 http://security.ubuntu.com/ubuntu bionic-security InRelease [88.7 kB]\n",
            "Hit:7 http://archive.ubuntu.com/ubuntu bionic InRelease\n",
            "Ign:8 https://developer.download.nvidia.com/compute/cuda/repos/ubuntu1804/x86_64  InRelease\n",
            "Ign:9 https://developer.download.nvidia.com/compute/machine-learning/repos/ubuntu1804/x86_64  InRelease\n",
            "Get:10 http://archive.ubuntu.com/ubuntu bionic-updates InRelease [88.7 kB]\n",
            "Get:11 http://ppa.launchpad.net/marutter/c2d4u3.5/ubuntu bionic InRelease [15.4 kB]\n",
            "Hit:12 https://developer.download.nvidia.com/compute/cuda/repos/ubuntu1804/x86_64  Release\n",
            "Hit:13 https://developer.download.nvidia.com/compute/machine-learning/repos/ubuntu1804/x86_64  Release\n",
            "Get:16 http://security.ubuntu.com/ubuntu bionic-security/main amd64 Packages [912 kB]\n",
            "Get:17 http://ppa.launchpad.net/marutter/c2d4u3.5/ubuntu bionic/main Sources [1,816 kB]\n",
            "Get:18 http://archive.ubuntu.com/ubuntu bionic-backports InRelease [74.6 kB]\n",
            "Get:19 http://archive.ubuntu.com/ubuntu bionic-updates/universe amd64 Packages [1,376 kB]\n",
            "Get:20 http://security.ubuntu.com/ubuntu bionic-security/universe amd64 Packages [846 kB]\n",
            "Get:21 http://archive.ubuntu.com/ubuntu bionic-updates/main amd64 Packages [1,207 kB]\n",
            "Get:22 http://ppa.launchpad.net/marutter/c2d4u3.5/ubuntu bionic/main amd64 Packages [876 kB]\n",
            "Fetched 7,307 kB in 7s (1,098 kB/s)\n",
            "Reading package lists... Done\n",
            "Building dependency tree       \n",
            "Reading state information... Done\n",
            "39 packages can be upgraded. Run 'apt list --upgradable' to see them.\n"
          ],
          "name": "stdout"
        }
      ]
    },
    {
      "cell_type": "code",
      "metadata": {
        "id": "F1iljImAmcW_",
        "colab_type": "code",
        "colab": {
          "base_uri": "https://localhost:8080/",
          "height": 261
        },
        "outputId": "477086aa-0795-424b-aadf-88f2317f094b"
      },
      "source": [
        "!apt-get install tensorflow-model-server\n"
      ],
      "execution_count": 3,
      "outputs": [
        {
          "output_type": "stream",
          "text": [
            "\rReading package lists... 0%\r\rReading package lists... 0%\r\rReading package lists... 0%\r\rReading package lists... 6%\r\rReading package lists... 6%\r\rReading package lists... 7%\r\rReading package lists... 7%\r\rReading package lists... 63%\r\rReading package lists... 63%\r\rReading package lists... 64%\r\rReading package lists... 64%\r\rReading package lists... 71%\r\rReading package lists... 71%\r\rReading package lists... 72%\r\rReading package lists... 72%\r\rReading package lists... 81%\r\rReading package lists... 81%\r\rReading package lists... 81%\r\rReading package lists... 81%\r\rReading package lists... 81%\r\rReading package lists... 81%\r\rReading package lists... 81%\r\rReading package lists... 81%\r\rReading package lists... 81%\r\rReading package lists... 87%\r\rReading package lists... 87%\r\rReading package lists... 87%\r\rReading package lists... 87%\r\rReading package lists... 93%\r\rReading package lists... 93%\r\rReading package lists... 93%\r\rReading package lists... 93%\r\rReading package lists... 93%\r\rReading package lists... 93%\r\rReading package lists... 94%\r\rReading package lists... 94%\r\rReading package lists... 95%\r\rReading package lists... 95%\r\rReading package lists... 98%\r\rReading package lists... 98%\r\rReading package lists... 98%\r\rReading package lists... 98%\r\rReading package lists... 98%\r\rReading package lists... 98%\r\rReading package lists... 98%\r\rReading package lists... 98%\r\rReading package lists... Done\r\n",
            "\rBuilding dependency tree... 0%\r\rBuilding dependency tree... 0%\r\rBuilding dependency tree... 50%\r\rBuilding dependency tree... 50%\r\rBuilding dependency tree       \r\n",
            "\rReading state information... 0%\r\rReading state information... 0%\r\rReading state information... Done\r\n",
            "The following NEW packages will be installed:\n",
            "  tensorflow-model-server\n",
            "0 upgraded, 1 newly installed, 0 to remove and 39 not upgraded.\n",
            "Need to get 175 MB of archives.\n",
            "After this operation, 0 B of additional disk space will be used.\n",
            "Get:1 http://storage.googleapis.com/tensorflow-serving-apt stable/tensorflow-model-server amd64 tensorflow-model-server all 2.1.0 [175 MB]\n",
            "Fetched 175 MB in 3s (68.8 MB/s)\n",
            "Selecting previously unselected package tensorflow-model-server.\n",
            "(Reading database ... 144433 files and directories currently installed.)\n",
            "Preparing to unpack .../tensorflow-model-server_2.1.0_all.deb ...\n",
            "Unpacking tensorflow-model-server (2.1.0) ...\n",
            "Setting up tensorflow-model-server (2.1.0) ...\n"
          ],
          "name": "stdout"
        }
      ]
    },
    {
      "cell_type": "code",
      "metadata": {
        "id": "lojxi1wOoLnE",
        "colab_type": "code",
        "colab": {}
      },
      "source": [
        "import sys\n",
        "\n",
        "# Confirm that we're using Python 3\n",
        "assert sys.version_info.major is 3, 'Oops, not running Python 3. Use Runtime > Change runtime type'"
      ],
      "execution_count": 0,
      "outputs": []
    },
    {
      "cell_type": "code",
      "metadata": {
        "id": "3rGpE-K4oZIS",
        "colab_type": "code",
        "colab": {
          "base_uri": "https://localhost:8080/",
          "height": 66
        },
        "outputId": "099c0846-60ea-4c66-fea4-7759693358f9"
      },
      "source": [
        "# TensorFlow and tf.keras\n",
        "print(\"Installing dependencies for Colab environment\")\n",
        "!pip install -Uq grpcio==1.26.0\n",
        "\n",
        "import tensorflow as tf\n",
        "from tensorflow import keras\n",
        "\n",
        "# Helper libraries\n",
        "import numpy as np\n",
        "import matplotlib.pyplot as plt\n",
        "import os\n",
        "import subprocess\n",
        "\n",
        "print('TensorFlow version: {}'.format(tf.__version__))"
      ],
      "execution_count": 5,
      "outputs": [
        {
          "output_type": "stream",
          "text": [
            "Installing dependencies for Colab environment\n",
            "\u001b[K     |████████████████████████████████| 2.4MB 13.7MB/s \n",
            "\u001b[?25hTensorFlow version: 2.2.0\n"
          ],
          "name": "stdout"
        }
      ]
    },
    {
      "cell_type": "markdown",
      "metadata": {
        "id": "ySuVlvROaa_L",
        "colab_type": "text"
      },
      "source": [
        "##TFX Serving"
      ]
    },
    {
      "cell_type": "code",
      "metadata": {
        "id": "r3wBXISmbnKp",
        "colab_type": "code",
        "colab": {}
      },
      "source": [
        "from tensorflow.keras.models import load_model\n",
        "# loading CNN model for facial expression recognition\n",
        "model = load_model('/content/drive/My Drive/CMPE 258 - Deep Learning/258_final_project/CNN_Model.h5') "
      ],
      "execution_count": 0,
      "outputs": []
    },
    {
      "cell_type": "code",
      "metadata": {
        "id": "wH0a9sRLlmKa",
        "colab_type": "code",
        "outputId": "8ddeb453-955b-45b3-fdc7-15db497a9262",
        "colab": {
          "base_uri": "https://localhost:8080/",
          "height": 765
        }
      },
      "source": [
        "model.summary()"
      ],
      "execution_count": 8,
      "outputs": [
        {
          "output_type": "stream",
          "text": [
            "Model: \"sequential_2\"\n",
            "_________________________________________________________________\n",
            "Layer (type)                 Output Shape              Param #   \n",
            "=================================================================\n",
            "conv2d_10 (Conv2D)           (None, 48, 48, 64)        1792      \n",
            "_________________________________________________________________\n",
            "conv2d_11 (Conv2D)           (None, 48, 48, 64)        36928     \n",
            "_________________________________________________________________\n",
            "conv2d_12 (Conv2D)           (None, 48, 48, 64)        36928     \n",
            "_________________________________________________________________\n",
            "max_pooling2d_4 (MaxPooling2 (None, 24, 24, 64)        0         \n",
            "_________________________________________________________________\n",
            "dropout_1 (Dropout)          (None, 24, 24, 64)        0         \n",
            "_________________________________________________________________\n",
            "conv2d_13 (Conv2D)           (None, 24, 24, 64)        36928     \n",
            "_________________________________________________________________\n",
            "conv2d_14 (Conv2D)           (None, 24, 24, 64)        36928     \n",
            "_________________________________________________________________\n",
            "conv2d_15 (Conv2D)           (None, 24, 24, 64)        36928     \n",
            "_________________________________________________________________\n",
            "max_pooling2d_5 (MaxPooling2 (None, 12, 12, 64)        0         \n",
            "_________________________________________________________________\n",
            "dropout_2 (Dropout)          (None, 12, 12, 64)        0         \n",
            "_________________________________________________________________\n",
            "conv2d_16 (Conv2D)           (None, 12, 12, 64)        36928     \n",
            "_________________________________________________________________\n",
            "conv2d_17 (Conv2D)           (None, 12, 12, 64)        36928     \n",
            "_________________________________________________________________\n",
            "conv2d_18 (Conv2D)           (None, 12, 12, 64)        36928     \n",
            "_________________________________________________________________\n",
            "max_pooling2d_6 (MaxPooling2 (None, 6, 6, 64)          0         \n",
            "_________________________________________________________________\n",
            "dropout_3 (Dropout)          (None, 6, 6, 64)          0         \n",
            "_________________________________________________________________\n",
            "flatten_2 (Flatten)          (None, 2304)              0         \n",
            "_________________________________________________________________\n",
            "dense_3 (Dense)              (None, 256)               590080    \n",
            "_________________________________________________________________\n",
            "dropout_4 (Dropout)          (None, 256)               0         \n",
            "_________________________________________________________________\n",
            "dense_4 (Dense)              (None, 8)                 2056      \n",
            "=================================================================\n",
            "Total params: 889,352\n",
            "Trainable params: 889,352\n",
            "Non-trainable params: 0\n",
            "_________________________________________________________________\n"
          ],
          "name": "stdout"
        }
      ]
    },
    {
      "cell_type": "code",
      "metadata": {
        "id": "V4CQVeI5o-m3",
        "colab_type": "code",
        "colab": {
          "base_uri": "https://localhost:8080/",
          "height": 232
        },
        "outputId": "210e95a3-f808-46ae-8601-c60e2783dbae"
      },
      "source": [
        "# Fetch the Keras session and save the model\n",
        "# The signature definition is defined by the input and output tensors,\n",
        "# and stored with the default serving key\n",
        "import tempfile\n",
        "\n",
        "MODEL_DIR = tempfile.gettempdir()\n",
        "version = 1\n",
        "export_path = os.path.join(MODEL_DIR, str(version))\n",
        "print('export_path = {}\\n'.format(export_path))\n",
        "\n",
        "tf.keras.models.save_model(\n",
        "    model,\n",
        "    export_path,\n",
        "    overwrite=True,\n",
        "    include_optimizer=True,\n",
        "    save_format=None,\n",
        "    signatures=None,\n",
        "    options=None\n",
        ")\n",
        "\n",
        "print('\\nSaved model:')\n",
        "!ls -l {export_path}"
      ],
      "execution_count": 9,
      "outputs": [
        {
          "output_type": "stream",
          "text": [
            "export_path = /tmp/1\n",
            "\n",
            "WARNING:tensorflow:From /usr/local/lib/python3.6/dist-packages/tensorflow/python/ops/resource_variable_ops.py:1817: calling BaseResourceVariable.__init__ (from tensorflow.python.ops.resource_variable_ops) with constraint is deprecated and will be removed in a future version.\n",
            "Instructions for updating:\n",
            "If using Keras pass *_constraint arguments to layers.\n",
            "INFO:tensorflow:Assets written to: /tmp/1/assets\n",
            "\n",
            "Saved model:\n",
            "total 304\n",
            "drwxr-xr-x 2 root root   4096 May 16 22:58 assets\n",
            "-rw-r--r-- 1 root root 302053 May 16 22:58 saved_model.pb\n",
            "drwxr-xr-x 2 root root   4096 May 16 22:58 variables\n"
          ],
          "name": "stdout"
        }
      ]
    },
    {
      "cell_type": "code",
      "metadata": {
        "id": "HhieZDXhpMJV",
        "colab_type": "code",
        "colab": {
          "base_uri": "https://localhost:8080/",
          "height": 1000
        },
        "outputId": "1fd87e6e-a7be-4139-c3d3-4f109a61d68f"
      },
      "source": [
        "!saved_model_cli show --dir {export_path} --all"
      ],
      "execution_count": 10,
      "outputs": [
        {
          "output_type": "stream",
          "text": [
            "\n",
            "MetaGraphDef with tag-set: 'serve' contains the following SignatureDefs:\n",
            "\n",
            "signature_def['__saved_model_init_op']:\n",
            "  The given SavedModel SignatureDef contains the following input(s):\n",
            "  The given SavedModel SignatureDef contains the following output(s):\n",
            "    outputs['__saved_model_init_op'] tensor_info:\n",
            "        dtype: DT_INVALID\n",
            "        shape: unknown_rank\n",
            "        name: NoOp\n",
            "  Method name is: \n",
            "\n",
            "signature_def['serving_default']:\n",
            "  The given SavedModel SignatureDef contains the following input(s):\n",
            "    inputs['conv2d_10_input'] tensor_info:\n",
            "        dtype: DT_FLOAT\n",
            "        shape: (-1, 48, 48, 3)\n",
            "        name: serving_default_conv2d_10_input:0\n",
            "  The given SavedModel SignatureDef contains the following output(s):\n",
            "    outputs['dense_4'] tensor_info:\n",
            "        dtype: DT_FLOAT\n",
            "        shape: (-1, 8)\n",
            "        name: StatefulPartitionedCall:0\n",
            "  Method name is: tensorflow/serving/predict\n",
            "WARNING: Logging before flag parsing goes to stderr.\n",
            "W0516 22:58:55.186244 140008955139968 deprecation.py:506] From /usr/local/lib/python2.7/dist-packages/tensorflow_core/python/ops/resource_variable_ops.py:1786: calling __init__ (from tensorflow.python.ops.resource_variable_ops) with constraint is deprecated and will be removed in a future version.\n",
            "Instructions for updating:\n",
            "If using Keras pass *_constraint arguments to layers.\n",
            "\n",
            "Defined Functions:\n",
            "  Function Name: '__call__'\n",
            "    Option #1\n",
            "      Callable with:\n",
            "        Argument #1\n",
            "          inputs: TensorSpec(shape=(None, 48, 48, 3), dtype=tf.float32, name=u'inputs')\n",
            "        Argument #2\n",
            "          DType: bool\n",
            "          Value: False\n",
            "        Argument #3\n",
            "          DType: NoneType\n",
            "          Value: None\n",
            "    Option #2\n",
            "      Callable with:\n",
            "        Argument #1\n",
            "          conv2d_10_input: TensorSpec(shape=(None, 48, 48, 3), dtype=tf.float32, name=u'conv2d_10_input')\n",
            "        Argument #2\n",
            "          DType: bool\n",
            "          Value: False\n",
            "        Argument #3\n",
            "          DType: NoneType\n",
            "          Value: None\n",
            "    Option #3\n",
            "      Callable with:\n",
            "        Argument #1\n",
            "          conv2d_10_input: TensorSpec(shape=(None, 48, 48, 3), dtype=tf.float32, name=u'conv2d_10_input')\n",
            "        Argument #2\n",
            "          DType: bool\n",
            "          Value: True\n",
            "        Argument #3\n",
            "          DType: NoneType\n",
            "          Value: None\n",
            "    Option #4\n",
            "      Callable with:\n",
            "        Argument #1\n",
            "          inputs: TensorSpec(shape=(None, 48, 48, 3), dtype=tf.float32, name=u'inputs')\n",
            "        Argument #2\n",
            "          DType: bool\n",
            "          Value: True\n",
            "        Argument #3\n",
            "          DType: NoneType\n",
            "          Value: None\n",
            "\n",
            "  Function Name: '_default_save_signature'\n",
            "    Option #1\n",
            "      Callable with:\n",
            "        Argument #1\n",
            "          conv2d_10_input: TensorSpec(shape=(None, 48, 48, 3), dtype=tf.float32, name=u'conv2d_10_input')\n",
            "\n",
            "  Function Name: 'call_and_return_all_conditional_losses'\n",
            "    Option #1\n",
            "      Callable with:\n",
            "        Argument #1\n",
            "          conv2d_10_input: TensorSpec(shape=(None, 48, 48, 3), dtype=tf.float32, name=u'conv2d_10_input')\n",
            "        Argument #2\n",
            "          DType: bool\n",
            "          Value: True\n",
            "        Argument #3\n",
            "          DType: NoneType\n",
            "          Value: None\n",
            "    Option #2\n",
            "      Callable with:\n",
            "        Argument #1\n",
            "          inputs: TensorSpec(shape=(None, 48, 48, 3), dtype=tf.float32, name=u'inputs')\n",
            "        Argument #2\n",
            "          DType: bool\n",
            "          Value: True\n",
            "        Argument #3\n",
            "          DType: NoneType\n",
            "          Value: None\n",
            "    Option #3\n",
            "      Callable with:\n",
            "        Argument #1\n",
            "          conv2d_10_input: TensorSpec(shape=(None, 48, 48, 3), dtype=tf.float32, name=u'conv2d_10_input')\n",
            "        Argument #2\n",
            "          DType: bool\n",
            "          Value: False\n",
            "        Argument #3\n",
            "          DType: NoneType\n",
            "          Value: None\n",
            "    Option #4\n",
            "      Callable with:\n",
            "        Argument #1\n",
            "          inputs: TensorSpec(shape=(None, 48, 48, 3), dtype=tf.float32, name=u'inputs')\n",
            "        Argument #2\n",
            "          DType: bool\n",
            "          Value: False\n",
            "        Argument #3\n",
            "          DType: NoneType\n",
            "          Value: None\n"
          ],
          "name": "stdout"
        }
      ]
    },
    {
      "cell_type": "code",
      "metadata": {
        "id": "KO6E71nRauyv",
        "colab_type": "code",
        "colab": {}
      },
      "source": [
        "os.environ[\"MODEL_DIR\"] = MODEL_DIR"
      ],
      "execution_count": 0,
      "outputs": []
    },
    {
      "cell_type": "code",
      "metadata": {
        "id": "0vtO26R2avc6",
        "colab_type": "code",
        "outputId": "6cd32f53-f606-46d6-c02f-fb29c6d242a0",
        "colab": {
          "base_uri": "https://localhost:8080/",
          "height": 33
        }
      },
      "source": [
        "%%bash --bg \n",
        "nohup tensorflow_model_server \\\n",
        "  --rest_api_port=8501 \\\n",
        "  --model_name=cnn_model \\\n",
        "  --model_base_path=\"${MODEL_DIR}\" >server.log 2>&1"
      ],
      "execution_count": 12,
      "outputs": [
        {
          "output_type": "stream",
          "text": [
            "Starting job # 0 in a separate thread.\n"
          ],
          "name": "stdout"
        }
      ]
    },
    {
      "cell_type": "code",
      "metadata": {
        "id": "PeGEwUPkbATQ",
        "colab_type": "code",
        "outputId": "8bf874ce-0b96-4d2b-9d2b-f29cfaebd88e",
        "colab": {
          "base_uri": "https://localhost:8080/",
          "height": 180
        }
      },
      "source": [
        "!tail server.log"
      ],
      "execution_count": 13,
      "outputs": [
        {
          "output_type": "stream",
          "text": [
            "2020-05-16 22:59:01.151296: I external/org_tensorflow/tensorflow/core/platform/cpu_feature_guard.cc:142] Your CPU supports instructions that this TensorFlow binary was not compiled to use: AVX2 AVX512F FMA\n",
            "2020-05-16 22:59:01.169707: I external/org_tensorflow/tensorflow/cc/saved_model/loader.cc:203] Restoring SavedModel bundle.\n",
            "2020-05-16 22:59:01.214710: I external/org_tensorflow/tensorflow/cc/saved_model/loader.cc:152] Running initialization op on SavedModel bundle at path: /tmp/1\n",
            "2020-05-16 22:59:01.225350: I external/org_tensorflow/tensorflow/cc/saved_model/loader.cc:333] SavedModel load for tags { serve }; Status: success: OK. Took 77725 microseconds.\n",
            "2020-05-16 22:59:01.226805: I tensorflow_serving/servables/tensorflow/saved_model_warmup.cc:105] No warmup data file found at /tmp/1/assets.extra/tf_serving_warmup_requests\n",
            "2020-05-16 22:59:01.226918: I tensorflow_serving/core/loader_harness.cc:87] Successfully loaded servable version {name: cnn_model version: 1}\n",
            "2020-05-16 22:59:01.227943: I tensorflow_serving/model_servers/server.cc:358] Running gRPC ModelServer at 0.0.0.0:8500 ...\n",
            "[warn] getaddrinfo: address family for nodename not supported\n",
            "2020-05-16 22:59:01.228524: I tensorflow_serving/model_servers/server.cc:378] Exporting HTTP/REST API at:localhost:8501 ...\n",
            "[evhttp_server.cc : 238] NET_LOG: Entering the event loop ...\n"
          ],
          "name": "stdout"
        }
      ]
    },
    {
      "cell_type": "code",
      "metadata": {
        "id": "ZzuYbyZmvQ9z",
        "colab_type": "code",
        "colab": {
          "base_uri": "https://localhost:8080/",
          "height": 303
        },
        "outputId": "62b060fc-b09c-49a9-983a-f5d85ee9e202"
      },
      "source": [
        "from keras.preprocessing import image\n",
        "import json\n",
        "\n",
        "# using images created from GAN for testing the model serving on TFX\n",
        "img1 = image.load_img(\"/content/drive/My Drive/CMPE 258 - Deep Learning/258_final_project/data/stylegan2/image2.png\",target_size=(48,48))\n",
        "img1 = np.asarray(img1)\n",
        "plt.imshow(img1)\n",
        "img1 = np.expand_dims(img1, axis=0)\n",
        "\n",
        "data = json.dumps({\"signature_name\": \"serving_default\", \"instances\": img1.tolist()})\n",
        "data"
      ],
      "execution_count": 50,
      "outputs": [
        {
          "output_type": "execute_result",
          "data": {
            "text/plain": [
              "'{\"signature_name\": \"serving_default\", \"instances\": [[[[167, 154, 146], [167, 155, 147], [167, 155, 145], [168, 158, 149], [168, 156, 149], [169, 157, 148], [168, 157, 150], [168, 157, 150], [170, 157, 150], [170, 159, 152], [170, 157, 148], [171, 156, 148], [177, 162, 151], [152, 136, 127], [156, 142, 138], [111, 98, 94], [113, 103, 101], [39, 31, 31], [115, 102, 95], [92, 85, 85], [57, 52, 60], [48, 40, 38], [53, 41, 38], [48, 39, 37], [60, 50, 48], [27, 21, 17], [39, 29, 27], [48, 37, 37], [88, 76, 74], [72, 59, 56], [32, 24, 23], [75, 64, 61], [117, 106, 101], [151, 138, 130], [182, 174, 165], [175, 163, 152], [172, 161, 152], [170, 159, 150], [169, 158, 150], [169, 158, 150], [168, 156, 148], [169, 157, 149], [167, 156, 148], [167, 155, 147], [166, 155, 147], [166, 155, 147], [166, 154, 145], [165, 153, 143]], [[169, 156, 148], [167, 156, 149], [169, 158, 150], [169, 159, 152], [169, 159, 152], [170, 159, 151], [170, 158, 151], [172, 159, 150], [168, 158, 152], [171, 159, 151], [172, 159, 150], [111, 97, 91], [85, 71, 66], [130, 120, 117], [103, 94, 92], [78, 72, 73], [58, 50, 48], [139, 131, 128], [127, 119, 115], [119, 116, 115], [58, 52, 51], [71, 61, 57], [34, 27, 26], [62, 51, 47], [43, 33, 30], [28, 20, 18], [36, 27, 23], [24, 17, 14], [50, 41, 37], [77, 70, 68], [55, 46, 45], [71, 65, 63], [84, 73, 65], [70, 56, 51], [106, 93, 85], [173, 164, 154], [175, 164, 156], [172, 161, 154], [171, 160, 153], [169, 159, 151], [169, 158, 150], [168, 157, 150], [168, 159, 151], [168, 158, 150], [167, 158, 151], [167, 156, 148], [167, 156, 147], [167, 155, 146]], [[169, 158, 148], [170, 159, 150], [169, 159, 152], [169, 159, 149], [171, 160, 150], [170, 160, 151], [170, 158, 151], [171, 159, 151], [171, 159, 152], [172, 159, 152], [100, 85, 77], [62, 53, 51], [133, 122, 120], [144, 132, 127], [64, 54, 51], [132, 119, 118], [115, 110, 107], [87, 73, 67], [80, 71, 66], [76, 69, 68], [106, 99, 100], [108, 96, 89], [36, 27, 26], [60, 52, 47], [64, 55, 52], [27, 20, 16], [18, 12, 9], [41, 27, 21], [126, 113, 107], [96, 81, 74], [61, 52, 49], [33, 26, 25], [40, 30, 27], [79, 64, 57], [96, 86, 82], [140, 132, 126], [178, 167, 155], [175, 164, 157], [171, 162, 156], [169, 161, 154], [170, 160, 153], [169, 160, 153], [170, 159, 152], [169, 160, 152], [169, 160, 153], [170, 161, 152], [167, 157, 150], [170, 157, 147]], [[169, 158, 149], [169, 158, 152], [168, 158, 152], [171, 160, 151], [170, 160, 151], [173, 161, 152], [171, 160, 152], [172, 159, 151], [173, 160, 152], [177, 164, 153], [65, 52, 44], [90, 78, 73], [54, 44, 43], [99, 88, 88], [72, 62, 60], [110, 95, 87], [34, 25, 22], [70, 60, 59], [51, 41, 38], [66, 54, 51], [129, 115, 107], [83, 68, 64], [80, 65, 61], [41, 32, 28], [71, 60, 54], [65, 56, 52], [44, 30, 23], [21, 16, 13], [30, 25, 21], [125, 115, 109], [71, 64, 57], [25, 22, 21], [36, 31, 29], [55, 46, 45], [112, 102, 95], [100, 90, 88], [115, 102, 94], [180, 169, 158], [175, 166, 158], [174, 165, 157], [174, 164, 155], [172, 163, 155], [171, 162, 155], [172, 162, 153], [172, 162, 153], [172, 163, 154], [170, 160, 153], [169, 158, 151]], [[171, 159, 150], [170, 159, 151], [171, 160, 152], [171, 161, 152], [174, 162, 154], [171, 160, 152], [171, 160, 152], [172, 160, 151], [163, 151, 138], [95, 81, 74], [29, 24, 22], [30, 25, 23], [23, 15, 16], [53, 46, 45], [92, 77, 72], [88, 75, 72], [31, 22, 18], [43, 31, 29], [66, 53, 47], [97, 82, 75], [71, 57, 52], [51, 43, 41], [41, 35, 32], [37, 28, 25], [59, 49, 45], [94, 82, 74], [33, 23, 18], [22, 18, 16], [17, 13, 11], [58, 46, 38], [83, 66, 59], [99, 88, 85], [32, 25, 22], [39, 31, 29], [88, 79, 75], [91, 83, 80], [68, 59, 58], [172, 159, 150], [180, 170, 160], [175, 166, 158], [174, 165, 158], [172, 164, 157], [173, 164, 156], [174, 165, 156], [172, 163, 155], [172, 163, 156], [173, 161, 153], [171, 160, 152]], [[171, 160, 152], [170, 159, 151], [171, 160, 153], [171, 160, 153], [172, 161, 152], [170, 160, 152], [170, 159, 152], [172, 159, 150], [164, 147, 136], [107, 91, 85], [45, 36, 33], [14, 10, 10], [39, 30, 28], [91, 77, 71], [72, 58, 52], [39, 28, 25], [70, 57, 55], [44, 35, 33], [37, 28, 24], [23, 16, 13], [63, 50, 44], [55, 44, 41], [65, 58, 56], [46, 38, 37], [48, 40, 33], [42, 34, 30], [21, 14, 12], [31, 24, 22], [35, 25, 22], [51, 36, 29], [40, 28, 24], [96, 81, 74], [64, 52, 46], [17, 13, 11], [41, 37, 35], [63, 51, 45], [53, 41, 36], [52, 45, 42], [184, 173, 163], [176, 167, 160], [174, 165, 159], [175, 165, 158], [175, 165, 158], [173, 164, 158], [175, 164, 156], [174, 165, 155], [174, 162, 155], [173, 162, 152]], [[172, 160, 154], [172, 160, 153], [172, 161, 154], [170, 160, 153], [171, 161, 153], [172, 160, 151], [170, 158, 150], [177, 161, 151], [130, 114, 107], [59, 48, 44], [61, 50, 46], [50, 42, 40], [48, 37, 37], [124, 108, 105], [98, 79, 69], [74, 54, 46], [80, 57, 47], [79, 54, 48], [51, 32, 25], [64, 46, 39], [74, 59, 54], [54, 44, 42], [75, 62, 57], [39, 28, 25], [35, 25, 20], [42, 27, 22], [38, 25, 20], [39, 26, 21], [45, 32, 25], [65, 48, 39], [51, 33, 26], [73, 54, 44], [32, 21, 18], [50, 38, 33], [21, 14, 12], [49, 39, 33], [42, 31, 25], [40, 30, 26], [128, 118, 111], [182, 173, 162], [177, 168, 159], [175, 166, 159], [176, 167, 159], [174, 165, 159], [176, 166, 159], [174, 166, 158], [174, 164, 157], [172, 162, 155]], [[172, 161, 152], [171, 161, 153], [173, 162, 153], [171, 161, 153], [174, 162, 151], [172, 161, 153], [172, 162, 151], [157, 142, 133], [152, 132, 124], [95, 69, 57], [35, 25, 22], [52, 40, 41], [134, 111, 107], [90, 65, 53], [68, 44, 37], [95, 67, 63], [113, 86, 77], [130, 98, 87], [91, 64, 55], [72, 47, 39], [40, 26, 21], [59, 41, 34], [39, 25, 20], [40, 27, 21], [54, 34, 29], [75, 48, 40], [84, 56, 48], [97, 66, 57], [98, 67, 57], [83, 53, 48], [68, 43, 36], [57, 37, 29], [40, 25, 20], [32, 21, 17], [32, 23, 19], [47, 37, 32], [39, 24, 17], [49, 38, 32], [55, 44, 41], [149, 139, 127], [180, 171, 162], [176, 168, 160], [176, 167, 159], [176, 167, 162], [175, 166, 160], [176, 167, 159], [176, 166, 158], [176, 165, 157]], [[171, 161, 153], [172, 162, 154], [173, 162, 154], [173, 162, 154], [171, 161, 154], [171, 161, 154], [176, 166, 157], [167, 151, 143], [132, 115, 107], [108, 89, 79], [79, 62, 55], [135, 120, 114], [103, 79, 71], [99, 75, 67], [122, 89, 80], [193, 150, 141], [198, 160, 156], [107, 74, 69], [100, 75, 70], [119, 84, 70], [111, 91, 83], [93, 63, 54], [98, 63, 57], [115, 77, 71], [134, 94, 87], [133, 96, 88], [145, 108, 103], [141, 97, 87], [135, 91, 81], [94, 56, 48], [91, 58, 49], [80, 50, 40], [54, 30, 24], [51, 33, 26], [46, 33, 27], [22, 16, 14], [44, 34, 28], [48, 38, 33], [41, 30, 27], [52, 42, 37], [181, 170, 163], [180, 170, 161], [178, 169, 163], [176, 168, 162], [179, 170, 161], [177, 167, 159], [176, 166, 158], [176, 164, 157]], [[169, 160, 154], [171, 162, 155], [173, 162, 154], [174, 164, 155], [173, 163, 154], [173, 162, 154], [177, 163, 151], [124, 110, 103], [93, 75, 69], [159, 137, 129], [118, 97, 85], [72, 57, 50], [72, 49, 43], [118, 86, 77], [216, 180, 173], [227, 200, 198], [228, 205, 203], [220, 191, 190], [209, 173, 165], [189, 142, 123], [173, 123, 113], [169, 121, 109], [182, 136, 129], [177, 133, 123], [168, 125, 113], [176, 133, 123], [172, 125, 117], [162, 112, 101], [159, 111, 101], [149, 107, 96], [120, 77, 69], [124, 84, 72], [53, 29, 24], [112, 73, 62], [92, 62, 52], [40, 26, 19], [26, 18, 13], [35, 26, 22], [27, 18, 15], [46, 36, 32], [180, 168, 155], [180, 171, 163], [179, 169, 162], [179, 170, 162], [178, 169, 161], [178, 168, 160], [177, 168, 159], [176, 166, 158]], [[172, 161, 155], [171, 161, 156], [173, 163, 155], [174, 163, 156], [173, 162, 156], [173, 162, 155], [179, 165, 154], [140, 124, 120], [102, 83, 75], [108, 86, 75], [110, 87, 76], [80, 63, 56], [91, 60, 53], [181, 142, 134], [229, 201, 200], [236, 220, 219], [234, 213, 212], [232, 211, 210], [229, 198, 196], [205, 162, 155], [212, 173, 169], [212, 171, 165], [201, 160, 152], [200, 158, 151], [183, 139, 125], [188, 143, 133], [181, 138, 128], [174, 126, 112], [176, 134, 124], [161, 117, 106], [150, 102, 91], [163, 114, 105], [156, 111, 103], [79, 56, 54], [135, 100, 93], [79, 58, 51], [47, 35, 30], [49, 40, 35], [53, 43, 38], [35, 25, 20], [188, 175, 165], [182, 172, 162], [178, 170, 163], [179, 171, 165], [179, 171, 163], [178, 169, 162], [177, 167, 160], [175, 165, 157]], [[176, 165, 156], [174, 162, 156], [175, 164, 156], [174, 164, 157], [174, 163, 156], [176, 164, 158], [143, 130, 127], [102, 84, 76], [124, 102, 91], [77, 58, 48], [54, 38, 34], [95, 72, 61], [160, 119, 111], [228, 199, 199], [237, 215, 214], [239, 219, 220], [236, 209, 208], [234, 212, 215], [217, 191, 193], [227, 194, 192], [223, 192, 192], [218, 180, 177], [220, 183, 178], [210, 163, 155], [200, 154, 148], [194, 152, 146], [196, 151, 146], [182, 135, 124], [175, 130, 121], [167, 120, 111], [165, 115, 105], [173, 126, 118], [170, 130, 125], [166, 128, 118], [151, 116, 111], [104, 74, 66], [59, 47, 40], [32, 22, 19], [51, 44, 40], [48, 35, 29], [148, 138, 127], [180, 172, 164], [180, 171, 165], [179, 170, 164], [178, 169, 164], [179, 169, 161], [177, 167, 160], [177, 167, 160]], [[175, 164, 157], [175, 164, 157], [177, 165, 157], [176, 165, 157], [175, 165, 155], [173, 163, 153], [120, 106, 98], [106, 90, 83], [84, 72, 65], [65, 49, 42], [66, 47, 40], [84, 64, 60], [213, 182, 176], [234, 213, 212], [236, 214, 213], [237, 208, 208], [233, 206, 207], [230, 203, 203], [228, 204, 206], [229, 203, 208], [223, 192, 194], [224, 185, 186], [216, 176, 172], [214, 170, 165], [208, 162, 157], [197, 149, 138], [198, 148, 139], [186, 141, 136], [183, 133, 124], [175, 123, 117], [179, 130, 119], [171, 125, 114], [180, 142, 134], [173, 134, 126], [165, 127, 121], [126, 94, 88], [80, 64, 57], [73, 63, 58], [46, 35, 30], [55, 42, 37], [183, 172, 159], [182, 173, 166], [180, 171, 163], [179, 171, 164], [178, 170, 162], [177, 168, 161], [178, 168, 159], [178, 167, 158]], [[173, 163, 157], [176, 165, 157], [175, 166, 158], [176, 166, 158], [175, 165, 158], [177, 165, 157], [156, 141, 127], [159, 138, 130], [86, 71, 65], [90, 73, 64], [73, 55, 50], [155, 132, 126], [225, 200, 198], [236, 213, 211], [238, 215, 214], [234, 206, 203], [234, 205, 204], [230, 200, 201], [230, 197, 198], [229, 199, 200], [227, 194, 194], [223, 180, 176], [221, 183, 179], [211, 164, 153], [206, 163, 155], [204, 157, 147], [204, 156, 148], [191, 138, 126], [187, 138, 127], [187, 139, 129], [175, 123, 109], [171, 126, 115], [171, 127, 117], [177, 137, 131], [163, 125, 118], [133, 99, 90], [86, 71, 64], [55, 44, 42], [45, 33, 27], [66, 54, 48], [176, 165, 152], [182, 172, 164], [179, 170, 164], [179, 169, 162], [180, 171, 164], [180, 171, 163], [182, 172, 164], [175, 166, 160]], [[175, 164, 156], [174, 164, 157], [178, 166, 158], [177, 166, 159], [175, 165, 159], [174, 166, 160], [176, 165, 157], [149, 137, 132], [98, 76, 69], [103, 82, 72], [116, 97, 90], [182, 161, 157], [226, 195, 191], [236, 209, 205], [237, 211, 210], [236, 209, 206], [234, 206, 202], [231, 190, 187], [231, 199, 199], [228, 195, 193], [226, 194, 193], [228, 195, 197], [213, 167, 161], [219, 183, 183], [210, 168, 163], [206, 162, 157], [206, 160, 153], [196, 143, 135], [193, 143, 134], [186, 134, 124], [183, 139, 126], [172, 123, 112], [178, 131, 123], [173, 128, 118], [175, 135, 123], [138, 106, 95], [68, 53, 46], [58, 46, 41], [52, 43, 38], [45, 33, 27], [184, 173, 164], [183, 173, 164], [181, 172, 164], [180, 171, 164], [180, 171, 163], [179, 170, 162], [178, 169, 163], [177, 168, 161]], [[176, 165, 158], [176, 167, 160], [176, 167, 159], [178, 167, 159], [176, 167, 161], [178, 168, 160], [177, 165, 158], [117, 97, 89], [111, 99, 96], [81, 64, 56], [149, 135, 131], [178, 156, 150], [225, 198, 194], [236, 204, 201], [232, 207, 205], [234, 210, 206], [235, 209, 206], [228, 198, 196], [234, 208, 209], [234, 209, 212], [229, 200, 203], [227, 193, 194], [217, 169, 163], [219, 176, 172], [215, 170, 165], [216, 174, 168], [208, 159, 152], [206, 163, 158], [198, 142, 133], [194, 143, 134], [180, 133, 119], [168, 115, 103], [181, 132, 125], [181, 139, 128], [164, 122, 111], [126, 92, 85], [54, 39, 35], [38, 28, 25], [48, 36, 32], [42, 32, 28], [186, 175, 162], [182, 172, 165], [181, 173, 164], [180, 171, 164], [180, 171, 162], [181, 172, 163], [177, 169, 162], [178, 168, 161]], [[174, 165, 158], [177, 166, 159], [177, 168, 162], [178, 168, 162], [178, 168, 161], [178, 167, 160], [176, 163, 151], [93, 75, 67], [90, 73, 66], [80, 66, 60], [125, 105, 95], [188, 159, 151], [231, 202, 197], [235, 209, 205], [237, 212, 213], [236, 207, 205], [235, 209, 205], [237, 215, 213], [236, 209, 207], [238, 214, 213], [229, 192, 193], [230, 194, 195], [216, 175, 170], [214, 159, 152], [210, 167, 164], [219, 184, 180], [218, 178, 172], [208, 164, 157], [200, 151, 141], [193, 147, 136], [183, 136, 125], [180, 137, 128], [181, 134, 125], [178, 135, 125], [167, 125, 114], [138, 102, 92], [67, 50, 45], [48, 34, 28], [45, 35, 30], [52, 45, 44], [188, 174, 160], [183, 173, 165], [181, 172, 165], [181, 172, 165], [182, 172, 162], [181, 172, 166], [180, 169, 160], [179, 169, 160]], [[173, 164, 159], [176, 166, 161], [179, 169, 162], [179, 169, 163], [178, 169, 162], [179, 169, 162], [175, 162, 154], [66, 49, 43], [73, 56, 49], [60, 46, 41], [86, 66, 55], [199, 163, 153], [230, 202, 198], [238, 212, 210], [236, 213, 211], [242, 216, 216], [237, 213, 212], [237, 209, 210], [237, 209, 211], [233, 201, 197], [228, 192, 188], [225, 184, 184], [218, 176, 172], [218, 180, 178], [223, 188, 188], [223, 193, 192], [210, 162, 153], [204, 158, 149], [198, 153, 143], [188, 139, 130], [184, 141, 133], [185, 141, 134], [183, 140, 132], [173, 128, 120], [170, 127, 117], [148, 109, 98], [78, 53, 45], [34, 24, 20], [43, 32, 27], [53, 43, 40], [188, 175, 164], [184, 174, 166], [182, 173, 165], [181, 173, 165], [183, 172, 163], [182, 171, 164], [180, 170, 164], [179, 169, 161]], [[174, 165, 159], [177, 167, 158], [177, 168, 163], [178, 169, 163], [179, 169, 163], [180, 170, 163], [176, 165, 156], [66, 49, 41], [72, 53, 45], [64, 49, 42], [84, 64, 57], [215, 180, 175], [231, 202, 198], [236, 210, 208], [241, 216, 213], [240, 215, 217], [236, 209, 207], [236, 210, 210], [232, 197, 202], [225, 185, 185], [221, 174, 169], [214, 158, 149], [217, 177, 174], [210, 167, 160], [219, 183, 181], [207, 168, 164], [199, 149, 142], [199, 149, 145], [187, 137, 132], [179, 123, 113], [190, 141, 139], [179, 133, 127], [191, 149, 141], [181, 141, 135], [172, 130, 126], [168, 126, 114], [106, 79, 70], [45, 34, 30], [34, 26, 21], [51, 43, 42], [189, 177, 167], [184, 174, 167], [182, 174, 168], [183, 173, 167], [182, 173, 165], [182, 171, 164], [181, 171, 163], [179, 168, 160]], [[176, 166, 158], [178, 168, 160], [177, 167, 160], [177, 168, 162], [179, 169, 163], [179, 169, 163], [179, 167, 159], [77, 59, 53], [82, 63, 55], [79, 61, 53], [98, 74, 67], [230, 200, 198], [232, 205, 203], [236, 208, 205], [235, 208, 210], [216, 181, 178], [205, 170, 171], [209, 174, 172], [208, 166, 160], [196, 145, 137], [202, 152, 143], [203, 152, 143], [204, 145, 134], [196, 139, 125], [199, 143, 133], [193, 140, 128], [171, 118, 107], [176, 124, 116], [170, 124, 117], [162, 116, 109], [150, 107, 102], [148, 104, 97], [159, 118, 109], [179, 143, 138], [184, 145, 139], [170, 128, 117], [157, 118, 106], [52, 41, 37], [31, 23, 21], [92, 90, 69], [190, 178, 172], [185, 174, 165], [182, 173, 167], [183, 174, 167], [181, 172, 165], [181, 172, 166], [182, 171, 163], [181, 170, 162]], [[175, 165, 158], [175, 167, 162], [177, 168, 162], [178, 168, 161], [178, 168, 162], [178, 168, 161], [244, 213, 210], [224, 172, 156], [105, 78, 71], [108, 91, 83], [140, 114, 106], [233, 205, 205], [232, 205, 202], [212, 179, 175], [190, 155, 153], [155, 118, 114], [138, 98, 87], [131, 93, 80], [94, 60, 49], [91, 50, 38], [124, 75, 65], [171, 123, 113], [178, 123, 110], [198, 145, 135], [181, 127, 118], [163, 111, 102], [139, 92, 83], [88, 53, 45], [91, 61, 51], [97, 64, 52], [90, 60, 48], [117, 83, 71], [114, 80, 64], [116, 80, 69], [146, 110, 99], [174, 138, 135], [175, 136, 124], [52, 41, 37], [67, 54, 49], [111, 68, 63], [165, 94, 88], [187, 176, 166], [184, 173, 167], [183, 173, 166], [183, 174, 166], [182, 172, 165], [183, 172, 163], [180, 169, 161]], [[176, 166, 159], [179, 169, 159], [178, 168, 162], [177, 168, 162], [178, 169, 161], [179, 169, 160], [223, 156, 137], [219, 166, 159], [169, 122, 105], [135, 120, 115], [189, 162, 156], [237, 209, 207], [230, 205, 204], [175, 128, 124], [168, 128, 121], [147, 105, 99], [130, 83, 75], [78, 41, 36], [59, 30, 29], [69, 29, 23], [146, 91, 75], [169, 115, 102], [195, 144, 129], [210, 171, 166], [179, 126, 116], [141, 92, 80], [115, 68, 55], [91, 55, 45], [49, 21, 19], [56, 32, 29], [76, 47, 39], [109, 71, 65], [113, 76, 66], [137, 94, 81], [134, 96, 82], [166, 131, 122], [173, 136, 129], [66, 51, 43], [92, 59, 45], [159, 98, 89], [122, 30, 24], [189, 177, 167], [184, 175, 167], [184, 174, 167], [182, 173, 167], [184, 174, 165], [182, 171, 163], [182, 171, 162]], [[175, 166, 160], [175, 166, 159], [177, 168, 162], [178, 168, 161], [178, 169, 163], [178, 167, 159], [227, 162, 144], [233, 179, 175], [225, 179, 169], [118, 100, 93], [224, 194, 188], [233, 206, 203], [221, 189, 183], [209, 172, 166], [138, 81, 68], [135, 95, 86], [145, 143, 146], [32, 30, 27], [69, 66, 63], [131, 106, 102], [93, 46, 38], [121, 77, 67], [211, 167, 158], [225, 190, 185], [195, 139, 128], [144, 93, 75], [74, 40, 31], [85, 51, 45], [115, 104, 105], [43, 42, 43], [42, 41, 40], [100, 86, 82], [101, 68, 54], [123, 81, 66], [130, 91, 77], [149, 110, 97], [171, 134, 128], [87, 70, 63], [141, 94, 76], [168, 106, 100], [128, 38, 33], [191, 177, 166], [185, 174, 167], [184, 175, 168], [185, 174, 166], [183, 173, 166], [184, 174, 163], [181, 169, 162]], [[175, 166, 160], [176, 167, 160], [176, 167, 161], [178, 168, 161], [179, 169, 162], [177, 167, 160], [230, 166, 154], [250, 214, 213], [248, 225, 230], [133, 111, 103], [229, 200, 196], [239, 212, 211], [235, 210, 206], [219, 179, 175], [188, 143, 134], [216, 180, 180], [181, 139, 144], [176, 132, 136], [158, 107, 105], [142, 83, 81], [134, 81, 75], [177, 133, 122], [228, 189, 183], [240, 214, 211], [215, 162, 153], [130, 77, 64], [111, 69, 58], [111, 69, 62], [136, 83, 75], [126, 80, 78], [136, 94, 90], [119, 73, 73], [140, 103, 94], [109, 71, 59], [150, 104, 90], [170, 129, 116], [173, 132, 126], [76, 62, 58], [139, 92, 76], [160, 98, 88], [138, 46, 41], [188, 176, 167], [185, 176, 170], [185, 175, 169], [184, 174, 166], [183, 173, 165], [182, 172, 164], [182, 171, 163]], [[174, 164, 157], [176, 165, 158], [175, 166, 160], [177, 167, 161], [178, 168, 161], [178, 166, 160], [221, 196, 190], [230, 179, 170], [191, 120, 106], [120, 99, 96], [228, 189, 184], [241, 213, 213], [239, 213, 209], [230, 199, 189], [228, 202, 195], [215, 177, 170], [199, 148, 137], [193, 140, 131], [166, 103, 88], [121, 62, 51], [152, 107, 104], [199, 157, 155], [235, 187, 184], [242, 213, 213], [219, 171, 163], [172, 112, 99], [127, 84, 73], [118, 72, 67], [107, 59, 55], [145, 89, 79], [151, 98, 85], [151, 101, 88], [140, 95, 87], [158, 116, 108], [169, 123, 110], [171, 124, 112], [172, 132, 126], [110, 82, 74], [121, 60, 52], [143, 81, 72], [146, 74, 69], [191, 179, 169], [187, 178, 171], [184, 176, 168], [184, 174, 166], [185, 174, 166], [183, 173, 164], [183, 170, 163]], [[174, 164, 156], [175, 165, 158], [176, 165, 158], [177, 168, 159], [175, 166, 161], [178, 168, 160], [183, 170, 165], [220, 141, 125], [187, 98, 90], [123, 102, 99], [228, 192, 183], [240, 213, 212], [245, 220, 216], [242, 216, 213], [235, 199, 189], [225, 183, 177], [213, 177, 170], [209, 168, 167], [190, 134, 134], [186, 133, 133], [219, 179, 176], [235, 198, 198], [238, 201, 204], [238, 205, 208], [215, 164, 162], [167, 106, 102], [156, 101, 88], [157, 106, 97], [151, 103, 98], [153, 102, 100], [169, 118, 112], [169, 124, 111], [177, 127, 114], [168, 122, 113], [187, 139, 128], [175, 128, 120], [170, 128, 120], [140, 107, 98], [133, 65, 61], [127, 60, 58], [149, 83, 78], [191, 179, 172], [188, 179, 172], [186, 176, 169], [185, 175, 167], [183, 173, 167], [181, 171, 164], [181, 171, 163]], [[174, 164, 157], [174, 165, 158], [175, 165, 159], [176, 166, 158], [177, 167, 160], [176, 165, 159], [180, 167, 158], [229, 151, 145], [188, 112, 109], [168, 145, 138], [230, 197, 187], [240, 208, 207], [242, 208, 203], [243, 219, 220], [238, 213, 213], [236, 209, 209], [230, 195, 190], [226, 188, 185], [230, 195, 194], [237, 210, 212], [239, 207, 208], [242, 208, 208], [237, 197, 202], [246, 214, 221], [220, 164, 160], [172, 112, 106], [169, 119, 111], [171, 116, 107], [193, 137, 130], [193, 148, 143], [199, 148, 140], [199, 149, 142], [195, 146, 139], [190, 141, 135], [180, 134, 122], [186, 140, 129], [170, 128, 122], [137, 107, 98], [151, 99, 97], [139, 67, 64], [160, 110, 104], [188, 179, 175], [187, 178, 172], [186, 176, 169], [184, 175, 169], [185, 175, 167], [184, 173, 165], [181, 169, 161]], [[173, 162, 155], [174, 164, 158], [175, 164, 159], [176, 167, 159], [175, 165, 159], [176, 166, 160], [178, 166, 160], [245, 190, 198], [228, 165, 175], [212, 178, 175], [217, 181, 172], [239, 206, 203], [241, 213, 209], [242, 215, 216], [243, 218, 221], [240, 211, 209], [234, 202, 201], [237, 203, 203], [234, 200, 201], [236, 208, 212], [240, 214, 213], [239, 205, 200], [242, 210, 212], [249, 222, 228], [221, 166, 165], [172, 116, 107], [170, 119, 107], [171, 118, 108], [186, 132, 128], [195, 137, 135], [208, 162, 160], [205, 155, 151], [199, 147, 141], [188, 131, 125], [180, 128, 120], [185, 140, 131], [156, 114, 103], [99, 73, 69], [155, 93, 90], [164, 112, 108], [191, 178, 173], [188, 181, 177], [188, 178, 172], [187, 177, 170], [186, 175, 167], [185, 173, 166], [182, 172, 165], [182, 171, 165]], [[173, 163, 157], [173, 163, 157], [173, 164, 158], [176, 165, 158], [176, 166, 157], [177, 166, 159], [176, 165, 158], [229, 198, 193], [246, 217, 218], [197, 145, 142], [211, 181, 172], [233, 200, 198], [233, 197, 189], [242, 213, 213], [245, 219, 221], [241, 219, 223], [242, 216, 220], [234, 195, 197], [229, 193, 193], [222, 168, 166], [208, 146, 132], [232, 197, 199], [237, 201, 203], [245, 218, 224], [220, 162, 164], [183, 124, 117], [161, 107, 97], [141, 81, 66], [173, 111, 98], [201, 144, 139], [208, 159, 156], [204, 156, 154], [199, 146, 140], [188, 138, 133], [177, 129, 127], [165, 118, 111], [155, 114, 104], [94, 69, 64], [166, 105, 99], [144, 93, 89], [194, 183, 173], [190, 181, 176], [188, 178, 171], [186, 176, 170], [186, 176, 169], [186, 175, 167], [183, 173, 165], [184, 172, 164]], [[172, 162, 156], [173, 163, 157], [174, 164, 157], [176, 166, 160], [175, 166, 160], [177, 165, 158], [175, 164, 158], [175, 160, 153], [244, 215, 214], [224, 174, 169], [189, 158, 148], [231, 198, 190], [237, 206, 204], [241, 211, 209], [240, 213, 215], [236, 207, 209], [231, 192, 195], [225, 168, 166], [206, 138, 127], [179, 108, 93], [227, 182, 184], [242, 201, 209], [240, 210, 215], [235, 202, 209], [221, 157, 159], [182, 122, 117], [172, 118, 113], [157, 111, 106], [135, 73, 61], [176, 112, 104], [192, 140, 135], [194, 141, 137], [188, 138, 132], [179, 128, 121], [172, 127, 122], [163, 123, 118], [152, 117, 111], [88, 66, 61], [150, 101, 97], [173, 110, 113], [191, 181, 174], [189, 180, 173], [186, 178, 172], [187, 177, 171], [185, 176, 169], [184, 174, 166], [183, 173, 166], [184, 171, 164]], [[173, 163, 156], [175, 164, 157], [174, 163, 156], [174, 164, 158], [175, 165, 159], [175, 165, 159], [175, 165, 158], [176, 164, 157], [243, 202, 204], [243, 216, 216], [147, 115, 107], [229, 198, 194], [235, 206, 202], [236, 206, 205], [236, 200, 196], [232, 191, 192], [221, 175, 175], [202, 138, 133], [160, 94, 84], [177, 119, 112], [238, 200, 201], [231, 190, 195], [240, 203, 208], [231, 177, 180], [200, 135, 134], [178, 126, 120], [160, 108, 98], [163, 105, 99], [144, 92, 88], [139, 79, 72], [172, 118, 115], [182, 126, 119], [175, 121, 112], [174, 123, 114], [164, 120, 111], [155, 114, 106], [135, 106, 100], [93, 72, 69], [153, 98, 97], [158, 121, 111], [189, 181, 175], [188, 178, 172], [186, 178, 173], [187, 177, 170], [184, 175, 169], [183, 174, 168], [181, 172, 166], [182, 171, 164]], [[172, 162, 157], [173, 163, 157], [173, 164, 159], [176, 165, 157], [174, 165, 159], [176, 166, 159], [176, 166, 159], [176, 164, 157], [175, 165, 161], [221, 177, 172], [145, 118, 112], [209, 179, 171], [221, 193, 188], [229, 193, 190], [231, 195, 192], [223, 180, 178], [199, 144, 140], [156, 96, 90], [143, 85, 76], [197, 151, 151], [223, 191, 194], [114, 60, 60], [204, 163, 166], [193, 135, 130], [156, 99, 91], [135, 84, 77], [82, 37, 31], [101, 53, 49], [133, 82, 78], [135, 84, 74], [155, 99, 92], [169, 117, 109], [161, 111, 103], [153, 105, 95], [148, 104, 92], [147, 104, 93], [122, 90, 82], [69, 51, 50], [172, 150, 147], [189, 180, 173], [188, 179, 174], [187, 178, 172], [186, 177, 170], [185, 176, 170], [184, 175, 169], [183, 174, 168], [182, 172, 166], [182, 171, 165]], [[172, 162, 157], [173, 162, 156], [174, 164, 157], [175, 164, 157], [175, 164, 156], [175, 166, 159], [176, 165, 158], [177, 167, 160], [174, 164, 156], [172, 163, 157], [159, 137, 133], [179, 148, 139], [218, 191, 185], [221, 187, 182], [218, 178, 175], [207, 167, 161], [165, 116, 108], [117, 69, 59], [187, 145, 139], [206, 165, 163], [163, 117, 115], [184, 147, 151], [159, 124, 124], [156, 115, 106], [111, 67, 58], [94, 57, 53], [76, 51, 47], [95, 62, 57], [128, 81, 76], [134, 85, 73], [136, 84, 73], [158, 103, 96], [160, 105, 97], [154, 108, 96], [127, 89, 78], [144, 99, 90], [128, 96, 88], [166, 149, 143], [190, 181, 174], [188, 179, 173], [186, 178, 171], [184, 175, 170], [184, 176, 169], [183, 175, 169], [182, 173, 167], [182, 173, 167], [182, 172, 166], [181, 170, 164]], [[172, 162, 156], [174, 164, 158], [172, 163, 160], [173, 164, 157], [175, 165, 158], [174, 165, 160], [176, 166, 160], [176, 165, 159], [176, 166, 159], [174, 165, 158], [144, 120, 114], [190, 154, 141], [178, 144, 133], [193, 158, 146], [208, 168, 159], [195, 146, 136], [142, 93, 80], [154, 122, 112], [134, 94, 84], [173, 133, 124], [169, 123, 113], [150, 110, 100], [129, 88, 81], [109, 73, 69], [122, 89, 82], [96, 63, 55], [73, 48, 42], [62, 39, 32], [95, 62, 53], [102, 69, 58], [107, 74, 68], [148, 98, 85], [152, 97, 88], [150, 103, 93], [131, 90, 83], [129, 90, 83], [105, 77, 71], [178, 165, 158], [186, 178, 173], [185, 176, 171], [185, 176, 170], [183, 174, 169], [182, 174, 167], [183, 174, 168], [183, 174, 169], [180, 171, 166], [180, 171, 165], [181, 170, 163]], [[173, 163, 156], [172, 162, 157], [174, 164, 158], [174, 165, 157], [173, 165, 158], [176, 166, 159], [176, 166, 159], [178, 168, 160], [176, 165, 158], [177, 167, 160], [123, 105, 95], [209, 181, 174], [195, 160, 151], [204, 167, 154], [200, 167, 156], [199, 153, 139], [147, 107, 95], [108, 71, 56], [150, 107, 93], [189, 145, 137], [186, 138, 131], [194, 143, 140], [172, 124, 123], [122, 75, 70], [125, 74, 70], [171, 119, 115], [121, 72, 66], [116, 75, 68], [112, 73, 63], [100, 66, 56], [81, 55, 43], [122, 79, 65], [155, 108, 92], [139, 97, 85], [140, 105, 98], [141, 101, 89], [99, 74, 66], [183, 172, 161], [188, 176, 169], [186, 177, 171], [183, 174, 169], [183, 173, 168], [181, 173, 167], [183, 173, 167], [182, 173, 167], [182, 172, 166], [181, 171, 166], [181, 169, 164]], [[172, 162, 157], [173, 164, 158], [172, 164, 160], [174, 165, 160], [174, 164, 159], [177, 166, 157], [175, 166, 158], [176, 166, 160], [176, 166, 160], [178, 167, 159], [183, 169, 161], [205, 174, 168], [181, 152, 144], [177, 141, 128], [196, 161, 149], [207, 169, 155], [135, 93, 73], [112, 75, 63], [96, 55, 49], [171, 114, 115], [179, 113, 120], [179, 114, 119], [171, 98, 101], [144, 71, 77], [161, 92, 94], [140, 72, 73], [145, 84, 87], [129, 68, 68], [131, 79, 73], [82, 49, 41], [112, 74, 61], [120, 82, 68], [149, 104, 89], [144, 103, 93], [111, 77, 68], [120, 90, 79], [100, 76, 70], [186, 175, 168], [185, 175, 170], [183, 174, 170], [183, 174, 168], [181, 172, 167], [182, 173, 166], [182, 173, 166], [181, 172, 167], [180, 170, 165], [180, 170, 164], [180, 170, 163]], [[172, 162, 156], [173, 164, 159], [173, 163, 158], [174, 164, 160], [173, 164, 158], [176, 166, 158], [176, 166, 161], [176, 165, 159], [176, 166, 158], [178, 167, 160], [183, 170, 162], [138, 119, 114], [187, 154, 145], [182, 144, 132], [167, 124, 108], [206, 160, 149], [143, 107, 97], [126, 85, 70], [189, 136, 129], [180, 106, 115], [116, 54, 58], [156, 132, 129], [177, 162, 154], [187, 173, 162], [172, 158, 150], [155, 129, 115], [125, 103, 93], [31, 19, 14], [88, 42, 43], [137, 89, 84], [117, 79, 65], [127, 91, 76], [143, 101, 88], [122, 84, 72], [108, 76, 68], [90, 64, 62], [81, 67, 64], [184, 174, 167], [184, 174, 168], [182, 174, 168], [182, 173, 168], [181, 173, 168], [181, 172, 166], [180, 172, 166], [179, 171, 166], [178, 170, 164], [178, 168, 163], [180, 168, 162]], [[172, 162, 155], [171, 163, 158], [173, 164, 158], [174, 164, 159], [173, 164, 159], [175, 165, 157], [175, 165, 158], [175, 165, 158], [176, 166, 159], [177, 165, 157], [180, 167, 159], [94, 88, 88], [158, 128, 119], [178, 140, 128], [185, 144, 127], [180, 134, 120], [156, 110, 91], [147, 106, 93], [210, 170, 160], [233, 194, 191], [233, 176, 188], [236, 191, 209], [217, 141, 155], [203, 115, 117], [178, 108, 114], [198, 104, 118], [170, 102, 113], [159, 92, 102], [152, 101, 94], [156, 108, 97], [108, 74, 62], [144, 102, 81], [136, 98, 83], [93, 61, 52], [93, 65, 58], [85, 63, 60], [130, 118, 116], [183, 172, 166], [182, 171, 164], [180, 172, 166], [180, 171, 164], [177, 170, 166], [180, 171, 164], [179, 170, 164], [179, 171, 165], [179, 170, 164], [178, 168, 163], [177, 168, 162]], [[172, 162, 156], [172, 162, 156], [172, 163, 158], [172, 164, 158], [173, 163, 157], [175, 164, 156], [174, 165, 158], [175, 165, 158], [176, 166, 159], [177, 166, 158], [177, 165, 158], [177, 163, 156], [150, 130, 130], [168, 135, 123], [146, 112, 102], [170, 131, 118], [146, 106, 90], [166, 124, 109], [216, 174, 164], [228, 190, 181], [229, 188, 185], [229, 174, 179], [221, 146, 156], [192, 107, 121], [191, 112, 124], [186, 108, 120], [165, 88, 93], [172, 124, 118], [161, 113, 104], [149, 101, 88], [122, 86, 73], [101, 70, 59], [96, 67, 58], [114, 83, 74], [102, 77, 68], [77, 60, 56], [172, 164, 157], [180, 171, 165], [180, 170, 165], [178, 170, 165], [180, 170, 164], [178, 168, 163], [177, 168, 164], [178, 168, 162], [178, 169, 163], [177, 168, 162], [177, 167, 162], [177, 166, 160]], [[170, 161, 155], [171, 161, 157], [171, 162, 156], [173, 164, 159], [174, 165, 160], [174, 164, 157], [175, 165, 159], [174, 164, 158], [176, 165, 158], [176, 165, 159], [177, 166, 159], [179, 167, 161], [84, 74, 74], [160, 131, 121], [133, 97, 83], [115, 82, 69], [170, 131, 117], [160, 131, 121], [177, 132, 119], [210, 170, 160], [212, 166, 156], [198, 149, 139], [169, 122, 109], [152, 107, 96], [158, 112, 99], [132, 93, 84], [135, 90, 82], [162, 118, 110], [140, 93, 83], [111, 79, 68], [74, 53, 47], [67, 45, 39], [88, 66, 58], [74, 55, 52], [62, 47, 41], [51, 39, 38], [182, 171, 166], [179, 169, 164], [177, 168, 162], [177, 168, 162], [177, 168, 162], [176, 167, 163], [177, 168, 161], [176, 167, 163], [176, 168, 163], [176, 167, 163], [176, 166, 161], [177, 166, 160]], [[171, 162, 156], [171, 161, 157], [171, 162, 157], [173, 163, 159], [174, 165, 159], [172, 164, 160], [175, 164, 157], [174, 165, 158], [175, 165, 159], [176, 165, 158], [177, 167, 160], [180, 168, 159], [220, 192, 187], [94, 82, 80], [162, 136, 128], [104, 81, 73], [118, 85, 74], [116, 89, 79], [155, 119, 108], [184, 143, 132], [214, 173, 165], [208, 148, 137], [162, 110, 104], [116, 71, 63], [100, 62, 58], [109, 70, 68], [139, 92, 82], [138, 88, 77], [127, 90, 81], [87, 65, 57], [56, 38, 32], [104, 75, 62], [88, 64, 55], [88, 71, 67], [37, 30, 33], [135, 111, 109], [180, 172, 166], [178, 168, 164], [176, 167, 164], [179, 167, 161], [174, 166, 162], [175, 166, 162], [176, 166, 160], [174, 167, 162], [175, 166, 162], [176, 166, 160], [176, 165, 159], [176, 165, 160]], [[171, 160, 156], [172, 162, 156], [172, 162, 156], [173, 162, 157], [172, 164, 159], [174, 164, 156], [175, 165, 157], [174, 164, 160], [176, 165, 159], [177, 166, 159], [178, 166, 159], [176, 164, 158], [216, 187, 179], [154, 113, 99], [112, 90, 82], [99, 75, 66], [133, 103, 93], [130, 98, 88], [120, 86, 76], [194, 164, 154], [187, 145, 137], [208, 163, 158], [211, 168, 169], [195, 148, 143], [177, 129, 122], [175, 113, 107], [176, 126, 115], [140, 98, 89], [115, 79, 69], [74, 51, 46], [76, 57, 51], [54, 37, 30], [78, 56, 49], [56, 43, 40], [60, 41, 40], [142, 106, 100], [179, 169, 164], [177, 168, 164], [177, 166, 161], [176, 165, 159], [176, 166, 160], [174, 165, 159], [174, 165, 159], [175, 164, 158], [175, 164, 159], [173, 163, 159], [175, 164, 158], [174, 164, 158]], [[169, 161, 155], [171, 161, 156], [171, 161, 157], [172, 162, 158], [173, 164, 158], [172, 163, 156], [175, 164, 156], [176, 165, 157], [178, 166, 157], [177, 166, 158], [177, 165, 158], [177, 166, 159], [206, 179, 170], [217, 184, 175], [139, 118, 112], [107, 85, 79], [113, 88, 81], [113, 84, 74], [141, 107, 92], [151, 121, 114], [150, 107, 97], [193, 157, 151], [210, 168, 161], [187, 138, 127], [202, 157, 149], [170, 119, 111], [129, 85, 77], [111, 73, 65], [105, 76, 66], [83, 61, 53], [88, 68, 62], [65, 53, 48], [50, 37, 33], [32, 22, 23], [141, 101, 91], [158, 119, 110], [178, 168, 163], [176, 167, 162], [175, 165, 160], [173, 165, 160], [174, 164, 159], [175, 164, 159], [173, 165, 160], [173, 163, 157], [172, 164, 159], [172, 163, 156], [173, 163, 156], [174, 163, 157]], [[170, 159, 155], [173, 162, 155], [171, 162, 157], [172, 163, 157], [174, 164, 157], [173, 165, 160], [174, 164, 158], [176, 166, 159], [175, 166, 160], [178, 166, 159], [180, 168, 159], [177, 166, 160], [197, 178, 171], [221, 189, 180], [198, 165, 152], [90, 71, 68], [86, 62, 57], [79, 57, 50], [114, 79, 68], [130, 93, 82], [167, 128, 117], [162, 110, 100], [187, 137, 128], [176, 131, 121], [160, 113, 108], [160, 111, 100], [142, 99, 89], [119, 86, 75], [73, 51, 43], [74, 51, 46], [59, 40, 36], [58, 44, 38], [30, 20, 20], [115, 82, 69], [143, 104, 94], [156, 119, 112], [176, 167, 161], [176, 166, 160], [173, 165, 161], [173, 162, 155], [171, 163, 158], [172, 163, 157], [172, 164, 160], [172, 162, 157], [171, 162, 157], [170, 161, 157], [171, 161, 155], [173, 161, 155]], [[169, 159, 153], [170, 161, 155], [171, 162, 156], [173, 163, 156], [173, 164, 159], [174, 164, 159], [175, 165, 161], [175, 165, 160], [176, 165, 159], [176, 165, 159], [176, 166, 160], [177, 166, 160], [195, 179, 172], [221, 188, 178], [215, 182, 171], [200, 169, 157], [114, 97, 95], [58, 42, 39], [116, 85, 72], [121, 83, 69], [137, 92, 78], [161, 121, 109], [190, 144, 138], [139, 96, 89], [140, 99, 89], [131, 85, 71], [147, 96, 79], [89, 53, 42], [89, 66, 56], [53, 36, 32], [54, 40, 36], [33, 23, 23], [110, 78, 70], [136, 98, 90], [147, 109, 100], [159, 118, 112], [48, 63, 99], [174, 165, 159], [173, 164, 156], [172, 163, 158], [171, 161, 157], [171, 162, 157], [171, 161, 156], [173, 162, 155], [172, 162, 155], [170, 161, 156], [172, 160, 153], [170, 160, 154]], [[169, 160, 153], [169, 160, 154], [171, 161, 156], [172, 162, 156], [173, 163, 157], [175, 165, 159], [174, 165, 158], [173, 164, 159], [177, 166, 158], [177, 166, 159], [176, 165, 159], [179, 167, 160], [182, 175, 172], [223, 191, 182], [220, 183, 176], [205, 172, 159], [202, 171, 164], [139, 107, 96], [99, 78, 68], [84, 58, 45], [84, 50, 38], [154, 119, 100], [150, 109, 92], [140, 105, 92], [123, 83, 67], [103, 71, 63], [81, 56, 48], [81, 49, 38], [45, 28, 24], [53, 38, 37], [49, 33, 29], [110, 78, 72], [122, 89, 85], [132, 95, 87], [147, 108, 101], [156, 118, 110], [81, 62, 56], [82, 94, 130], [170, 160, 156], [171, 162, 156], [170, 161, 155], [168, 161, 157], [170, 161, 155], [169, 160, 156], [171, 162, 156], [171, 161, 155], [170, 160, 154], [169, 158, 152]], [[170, 160, 154], [171, 161, 156], [172, 162, 156], [171, 161, 156], [173, 164, 158], [174, 164, 159], [173, 164, 159], [174, 164, 159], [175, 164, 157], [174, 165, 160], [176, 165, 160], [168, 162, 168], [159, 139, 138], [224, 190, 180], [219, 180, 174], [213, 182, 172], [196, 161, 149], [196, 165, 154], [170, 138, 124], [106, 84, 76], [60, 43, 40], [84, 64, 59], [59, 40, 34], [55, 35, 30], [82, 57, 49], [47, 29, 24], [41, 27, 24], [43, 28, 25], [65, 51, 48], [104, 78, 69], [102, 66, 57], [119, 86, 82], [139, 100, 95], [146, 105, 100], [144, 106, 98], [159, 119, 110], [162, 123, 109], [36, 39, 57], [100, 103, 123], [168, 160, 157], [168, 160, 155], [170, 161, 156], [171, 162, 156], [168, 161, 157], [170, 161, 155], [168, 160, 156], [169, 160, 154], [169, 158, 153]], [[171, 161, 155], [174, 162, 154], [172, 162, 156], [171, 161, 156], [174, 164, 156], [174, 163, 158], [177, 166, 160], [176, 166, 162], [177, 166, 157], [177, 166, 161], [160, 161, 184], [52, 60, 95], [227, 192, 181], [226, 193, 183], [221, 181, 173], [215, 180, 171], [209, 172, 162], [194, 163, 155], [177, 147, 138], [180, 153, 147], [143, 117, 112], [65, 44, 40], [81, 62, 56], [67, 47, 42], [59, 43, 38], [61, 44, 37], [53, 36, 34], [72, 50, 46], [119, 84, 73], [114, 78, 71], [110, 76, 70], [135, 94, 89], [141, 94, 90], [153, 109, 105], [151, 110, 102], [159, 116, 109], [173, 132, 118], [19, 16, 21], [56, 67, 112], [46, 56, 93], [74, 88, 120], [166, 157, 155], [170, 161, 155], [171, 162, 156], [169, 161, 155], [169, 160, 154], [170, 160, 154], [170, 159, 154]]]]}'"
            ]
          },
          "metadata": {
            "tags": []
          },
          "execution_count": 50
        },
        {
          "output_type": "display_data",
          "data": {
            "image/png": "[encoded data removed]",
            "text/plain": [
              "<Figure size 432x288 with 1 Axes>"
            ]
          },
          "metadata": {
            "tags": [],
            "needs_background": "light"
          }
        }
      ]
    },
    {
      "cell_type": "code",
      "metadata": {
        "id": "n9jTrNx9vY7C",
        "colab_type": "code",
        "colab": {}
      },
      "source": [
        "!pip install -q requests\n",
        "\n",
        "import requests\n",
        "headers = {\"content-type\": \"application/json\"}\n",
        "json_response = requests.post('http://localhost:8501/v1/models/cnn_model:predict', data=data, headers=headers)\n",
        "predictions = json.loads(json_response.text)['predictions']\n",
        "output = predictions[0]"
      ],
      "execution_count": 0,
      "outputs": []
    },
    {
      "cell_type": "code",
      "metadata": {
        "id": "u8fyFD-MviYK",
        "colab_type": "code",
        "colab": {
          "base_uri": "https://localhost:8080/",
          "height": 300
        },
        "outputId": "a891ce14-8cf3-4843-c217-884d1d480eda"
      },
      "source": [
        "from keras.preprocessing import image\n",
        "\n",
        "classes = ['angry','disgust','fear','happy','sad','surprise','neutral','embarrassed']\n",
        "\n",
        "img = image.load_img(\"/content/drive/My Drive/CMPE 258 - Deep Learning/258_final_project/data/stylegan2/image2.png\",target_size=(48,48))\n",
        "img = np.asarray(img)\n",
        "plt.imshow(img)\n",
        "img = np.expand_dims(img, axis=0)\n",
        "\n",
        "print(output)\n",
        "classes[np.argmax(output)]"
      ],
      "execution_count": 52,
      "outputs": [
        {
          "output_type": "stream",
          "text": [
            "[0.0, 0.0, 1.0, 0.0, 0.0, 0.0, 0.0, 0.0]\n"
          ],
          "name": "stdout"
        },
        {
          "output_type": "execute_result",
          "data": {
            "text/plain": [
              "'fear'"
            ]
          },
          "metadata": {
            "tags": []
          },
          "execution_count": 52
        },
        {
          "output_type": "display_data",
          "data": {
            "image/png": "[encoded data removed]",
            "text/plain": [
              "<Figure size 432x288 with 1 Axes>"
            ]
          },
          "metadata": {
            "tags": [],
            "needs_background": "light"
          }
        }
      ]
    },
    {
      "cell_type": "code",
      "metadata": {
        "id": "6ItzUcZEvmmQ",
        "colab_type": "code",
        "colab": {}
      },
      "source": [
        ""
      ],
      "execution_count": 0,
      "outputs": []
    }
  ]
}